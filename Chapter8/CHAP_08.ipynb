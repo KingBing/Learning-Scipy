{
 "cells": [
  {
   "cell_type": "markdown",
   "metadata": {},
   "source": [
    "# <center><font color=red>[Learning SciPy for Numerical and Scientific Computing - Second Edition](https://www.packtpub.com/big-data-and-business-intelligence/learning-scipy-numerical-and-scientific-computing-second-edition)</font></center>"
   ]
  },
  {
   "cell_type": "markdown",
   "metadata": {},
   "source": [
    ">###Content under [Creative Commons Attribution license CC-BY 4.0](http://creativecommons.org/licenses/by/4.0/), [code under MIT license (c)](http://en.wikipedia.org/wiki/MIT_License)2015 Sergio Rojas (srojas@usb.ve) and Erik A Christensen (erikcny@aol.com).###"
   ]
  },
  {
   "cell_type": "markdown",
   "metadata": {},
   "source": [
    "## <b><font color='red'>     NOTE: This IPython notebook should be read alonside the corresponding chapter in the book, where each piece of code is fully explained.     </font></b> <br>"
   ]
  },
  {
   "cell_type": "markdown",
   "metadata": {},
   "source": [
    "# <center>Chapter 8. Interaction with Other Languages</center>"
   ]
  },
  {
   "cell_type": "markdown",
   "metadata": {},
   "source": [
    "## Fortran"
   ]
  },
  {
   "cell_type": "markdown",
   "metadata": {},
   "source": [
    "[Using Fortran and C code with Python](http://nbviewer.ipython.org/github/jrjohansson/scientific-python-lectures/blob/master/Lecture-6A-Fortran-and-C.ipynb)<br>\n",
    "\n",
    "[F2PY Users Guide and Reference Manual](http://docs.scipy.org/doc/numpy-dev/f2py/)<br>\n",
    "\n",
    "[Cookbook / F2Py](http://wiki.scipy.org/Cookbook/F2Py)<br>\n",
    "\n",
    "[Advanced F2PY usages](http://docs.scipy.org/doc/numpy-dev/f2py/advanced.html)<br>"
   ]
  },
  {
   "cell_type": "markdown",
   "metadata": {},
   "source": [
    "<b><font color=red>Please, check the book to get a full explanation of what is done by the following code and what its output represents</font></b>"
   ]
  },
  {
   "cell_type": "code",
   "execution_count": 1,
   "metadata": {
    "collapsed": false
   },
   "outputs": [
    {
     "name": "stdout",
     "output_type": "stream",
     "text": [
      "Writing primefactors.f90\n"
     ]
    }
   ],
   "source": [
    "%%file primefactors.f90\n",
    "! File  primefactors.f90\n",
    "\n",
    "SUBROUTINE PRIMEFACTORS(num, factors, f)\n",
    "  IMPLICIT NONE\n",
    "  INTEGER, INTENT(IN) :: num  !input number\n",
    "  INTEGER,INTENT(OUT), DIMENSION((num/2))::factors \n",
    "  INTEGER, INTENT(INOUT) :: f\n",
    "  INTEGER :: i, n\n",
    "  i = 2  \n",
    "  f = 1  \n",
    "  n = num\n",
    "  DO\n",
    "    IF (MOD(n,i) == 0) THEN \n",
    "      factors(f) = i\n",
    "      f = f+1\n",
    "      n = n/i\n",
    "    ELSE\n",
    "      i = i+1\n",
    "    END IF\n",
    "    IF (n == 1) THEN    \n",
    "      f = f-1    \n",
    "      EXIT\n",
    "    END IF\n",
    "  END DO\n",
    "END SUBROUTINE PRIMEFACTORS\n",
    "\n"
   ]
  },
  {
   "cell_type": "markdown",
   "metadata": {},
   "source": [
    "Generate a python module using `f2py`:"
   ]
  },
  {
   "cell_type": "code",
   "execution_count": 2,
   "metadata": {
    "collapsed": false
   },
   "outputs": [
    {
     "name": "stdout",
     "output_type": "stream",
     "text": [
      "running build\n",
      "running config_cc\n",
      "unifing config_cc, config, build_clib, build_ext, build commands --compiler options\n",
      "running config_fc\n",
      "unifing config_fc, config, build_clib, build_ext, build commands --fcompiler options\n",
      "running build_src\n",
      "build_src\n",
      "building extension \"primefactors\" sources\n",
      "f2py options: []\n",
      "f2py:> /tmp/tmpvbCM5v/src.linux-x86_64-2.7/primefactorsmodule.c\n",
      "creating /tmp/tmpvbCM5v/src.linux-x86_64-2.7\n",
      "Reading fortran codes...\n",
      "\tReading file 'primefactors.f90' (format:free)\n",
      "Post-processing...\n",
      "\tBlock: primefactors\n",
      "\t\t\tBlock: primefactors\n",
      "Post-processing (stage 2)...\n",
      "Building modules...\n",
      "\tBuilding module \"primefactors\"...\n",
      "\t\tConstructing wrapper function \"primefactors\"...\n",
      "\t\t  factors = primefactors(num,f)\n",
      "\tWrote C/API module \"primefactors\" to file \"/tmp/tmpvbCM5v/src.linux-x86_64-2.7/primefactorsmodule.c\"\n",
      "  adding '/tmp/tmpvbCM5v/src.linux-x86_64-2.7/fortranobject.c' to sources.\n",
      "  adding '/tmp/tmpvbCM5v/src.linux-x86_64-2.7' to include_dirs.\n",
      "copying /home/srojas/myProg/CANOPY151/ENV/User/lib/python2.7/site-packages/numpy/f2py/src/fortranobject.c -> /tmp/tmpvbCM5v/src.linux-x86_64-2.7\n",
      "copying /home/srojas/myProg/CANOPY151/ENV/User/lib/python2.7/site-packages/numpy/f2py/src/fortranobject.h -> /tmp/tmpvbCM5v/src.linux-x86_64-2.7\n",
      "build_src: building npy-pkg config files\n",
      "running build_ext\n",
      "customize UnixCCompiler\n",
      "customize UnixCCompiler using build_ext\n",
      "customize Gnu95FCompiler\n",
      "Found executable /usr/bin/gfortran\n",
      "customize Gnu95FCompiler\n",
      "customize Gnu95FCompiler using build_ext\n",
      "building 'primefactors' extension\n",
      "compiling C sources\n",
      "C compiler: gcc -pthread -fno-strict-aliasing -DNDEBUG -g -O2 -fPIC\n",
      "\n",
      "creating /tmp/tmpvbCM5v/tmp\n",
      "creating /tmp/tmpvbCM5v/tmp/tmpvbCM5v\n",
      "creating /tmp/tmpvbCM5v/tmp/tmpvbCM5v/src.linux-x86_64-2.7\n",
      "compile options: '-I/tmp/tmpvbCM5v/src.linux-x86_64-2.7 -I/home/srojas/myProg/CANOPY151/ENV/User/lib/python2.7/site-packages/numpy/core/include -I/home/srojas/myProg/CANOPY64B_154/appdata/canopy-1.5.4.3105.rh5-x86_64/include/python2.7 -c'\n",
      "gcc: /tmp/tmpvbCM5v/src.linux-x86_64-2.7/fortranobject.c\n",
      "In file included from /home/srojas/myProg/CANOPY151/ENV/User/lib/python2.7/site-packages/numpy/core/include/numpy/ndarraytypes.h:1804:0,\n",
      "                 from /home/srojas/myProg/CANOPY151/ENV/User/lib/python2.7/site-packages/numpy/core/include/numpy/ndarrayobject.h:17,\n",
      "                 from /home/srojas/myProg/CANOPY151/ENV/User/lib/python2.7/site-packages/numpy/core/include/numpy/arrayobject.h:4,\n",
      "                 from /tmp/tmpvbCM5v/src.linux-x86_64-2.7/fortranobject.h:13,\n",
      "                 from /tmp/tmpvbCM5v/src.linux-x86_64-2.7/fortranobject.c:2:\n",
      "/home/srojas/myProg/CANOPY151/ENV/User/lib/python2.7/site-packages/numpy/core/include/numpy/npy_1_7_deprecated_api.h:15:2: warning: #warning \"Using deprecated NumPy API, disable it by \" \"#defining NPY_NO_DEPRECATED_API NPY_1_7_API_VERSION\" [-Wcpp]\n",
      "gcc: /tmp/tmpvbCM5v/src.linux-x86_64-2.7/primefactorsmodule.c\n",
      "In file included from /home/srojas/myProg/CANOPY151/ENV/User/lib/python2.7/site-packages/numpy/core/include/numpy/ndarraytypes.h:1804:0,\n",
      "                 from /home/srojas/myProg/CANOPY151/ENV/User/lib/python2.7/site-packages/numpy/core/include/numpy/ndarrayobject.h:17,\n",
      "                 from /home/srojas/myProg/CANOPY151/ENV/User/lib/python2.7/site-packages/numpy/core/include/numpy/arrayobject.h:4,\n",
      "                 from /tmp/tmpvbCM5v/src.linux-x86_64-2.7/fortranobject.h:13,\n",
      "                 from /tmp/tmpvbCM5v/src.linux-x86_64-2.7/primefactorsmodule.c:18:\n",
      "/home/srojas/myProg/CANOPY151/ENV/User/lib/python2.7/site-packages/numpy/core/include/numpy/npy_1_7_deprecated_api.h:15:2: warning: #warning \"Using deprecated NumPy API, disable it by \" \"#defining NPY_NO_DEPRECATED_API NPY_1_7_API_VERSION\" [-Wcpp]\n",
      "compiling Fortran sources\n",
      "Fortran f77 compiler: /usr/bin/gfortran -Wall -g -ffixed-form -fno-second-underscore -fPIC -O3 -funroll-loops\n",
      "Fortran f90 compiler: /usr/bin/gfortran -Wall -g -fno-second-underscore -fPIC -O3 -funroll-loops\n",
      "Fortran fix compiler: /usr/bin/gfortran -Wall -g -ffixed-form -fno-second-underscore -Wall -g -fno-second-underscore -fPIC -O3 -funroll-loops\n",
      "compile options: '-I/tmp/tmpvbCM5v/src.linux-x86_64-2.7 -I/home/srojas/myProg/CANOPY151/ENV/User/lib/python2.7/site-packages/numpy/core/include -I/home/srojas/myProg/CANOPY64B_154/appdata/canopy-1.5.4.3105.rh5-x86_64/include/python2.7 -c'\n",
      "gfortran:f90: primefactors.f90\n",
      "/usr/bin/gfortran -Wall -g -Wall -g -shared /tmp/tmpvbCM5v/tmp/tmpvbCM5v/src.linux-x86_64-2.7/primefactorsmodule.o /tmp/tmpvbCM5v/tmp/tmpvbCM5v/src.linux-x86_64-2.7/fortranobject.o /tmp/tmpvbCM5v/primefactors.o -L/home/srojas/myProg/CANOPY64B_154/appdata/canopy-1.5.4.3105.rh5-x86_64/lib -lpython2.7 -lgfortran -o ./primefactors.so\n",
      "Removing build directory /tmp/tmpvbCM5v\n"
     ]
    }
   ],
   "source": [
    "!f2py -c -m primefactors primefactors.f90"
   ]
  },
  {
   "cell_type": "code",
   "execution_count": 3,
   "metadata": {
    "collapsed": false
   },
   "outputs": [],
   "source": [
    "import primefactors"
   ]
  },
  {
   "cell_type": "code",
   "execution_count": 4,
   "metadata": {
    "collapsed": false
   },
   "outputs": [
    {
     "data": {
      "text/plain": [
       "array([2, 3, 0], dtype=int32)"
      ]
     },
     "execution_count": 4,
     "metadata": {},
     "output_type": "execute_result"
    }
   ],
   "source": [
    "primefactors.primefactors(6,1)"
   ]
  },
  {
   "cell_type": "markdown",
   "metadata": {},
   "source": [
    "Example of a python script that use the module:"
   ]
  },
  {
   "cell_type": "code",
   "execution_count": 5,
   "metadata": {
    "collapsed": false
   },
   "outputs": [
    {
     "name": "stdout",
     "output_type": "stream",
     "text": [
      "Writing primefactors.py\n"
     ]
    }
   ],
   "source": [
    "%%file primefactors.py\n",
    "import primefactors\n",
    "\n",
    "print(primefactors.primefactors(6,1))"
   ]
  },
  {
   "cell_type": "code",
   "execution_count": 6,
   "metadata": {
    "collapsed": false
   },
   "outputs": [
    {
     "name": "stdout",
     "output_type": "stream",
     "text": [
      "[2 3 0]\r\n"
     ]
    }
   ],
   "source": [
    "# run the script\n",
    "!python primefactors.py"
   ]
  },
  {
   "cell_type": "markdown",
   "metadata": {},
   "source": [
    "## C/C++"
   ]
  },
  {
   "cell_type": "markdown",
   "metadata": {},
   "source": [
    "[Using Fortran and C code with Python](http://nbviewer.ipython.org/github/jrjohansson/scientific-python-lectures/blob/master/Lecture-6A-Fortran-and-C.ipynb)<br>\n",
    "\n",
    "[Weave (scipy.weave)](http://docs.scipy.org/doc/scipy-0.14.0/reference/tutorial/weave.html)<br>\n",
    "\n",
    "[Weave](http://wiki.scipy.org/Weave)<br>"
   ]
  },
  {
   "cell_type": "markdown",
   "metadata": {},
   "source": [
    "<b><font color=red>Please, check the book to get a full explanation of what is done by the following code and what its output represents</font></b>"
   ]
  },
  {
   "cell_type": "code",
   "execution_count": 7,
   "metadata": {
    "collapsed": false
   },
   "outputs": [],
   "source": [
    "import scipy.weave\n",
    "name = 'Francisco'\n",
    "pin = 1234\n",
    "code = 'std::cout << name << \"---PIN: \" '\n",
    "code+= '<< std::hex << pin << std::endl;'"
   ]
  },
  {
   "cell_type": "code",
   "execution_count": 8,
   "metadata": {
    "collapsed": false
   },
   "outputs": [
    {
     "name": "stdout",
     "output_type": "stream",
     "text": [
      "std::cout << name << \"---PIN: \" << std::hex << pin << std::endl;\n"
     ]
    }
   ],
   "source": [
    "print(code)"
   ]
  },
  {
   "cell_type": "code",
   "execution_count": 9,
   "metadata": {
    "collapsed": false
   },
   "outputs": [],
   "source": [
    "arg_names = ['name','pin']"
   ]
  },
  {
   "cell_type": "code",
   "execution_count": 10,
   "metadata": {
    "collapsed": false
   },
   "outputs": [
    {
     "name": "stdout",
     "output_type": "stream",
     "text": [
      "creating /tmp/scipy-srojas-bVhdij/python27_intermediate/compiler_f7429c9f75c54a67a977b92e35a33f2a\n"
     ]
    }
   ],
   "source": [
    "scipy.weave.inline(code, arg_names)"
   ]
  },
  {
   "cell_type": "markdown",
   "metadata": {},
   "source": [
    "<b><font color=blue>The output might be seen at the terminal, from where the notebook was started</font></b>"
   ]
  },
  {
   "cell_type": "markdown",
   "metadata": {},
   "source": [
    "## <center> This is the end of the working codes shown and thoroughly discussed in Chapter 8 of the book <font color=red>[Learning SciPy for Numerical and Scientific Computing - Second Edition](https://www.packtpub.com/big-data-and-business-intelligence/learning-scipy-numerical-and-scientific-computing-second-edition)</font> </center>"
   ]
  },
  {
   "cell_type": "markdown",
   "metadata": {},
   "source": [
    ">###Content under [Creative Commons Attribution license CC-BY 4.0](http://creativecommons.org/licenses/by/4.0/), [code under MIT license (c)](http://en.wikipedia.org/wiki/MIT_License)2015 Sergio Rojas (srojas@usb.ve) and Erik A Christensen (erikcny@aol.com).###"
   ]
  }
 ],
 "metadata": {
  "kernelspec": {
   "display_name": "Python 2",
   "language": "python",
   "name": "python2"
  },
  "language_info": {
   "codemirror_mode": {
    "name": "ipython",
    "version": 2
   },
   "file_extension": ".py",
   "mimetype": "text/x-python",
   "name": "python",
   "nbconvert_exporter": "python",
   "pygments_lexer": "ipython2",
   "version": "2.7.9"
  }
 },
 "nbformat": 4,
 "nbformat_minor": 0
}
